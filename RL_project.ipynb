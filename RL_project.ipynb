{
 "cells": [
  {
   "cell_type": "code",
   "execution_count": 1,
   "metadata": {
    "pycharm": {
     "name": "#%%\n"
    }
   },
   "outputs": [],
   "source": [
    "import torch\n",
    "device = 'cuda' if torch.cuda.is_available() else 'cpu'\n",
    "from agent import Agent, advanced_random_policy, random_policy, advanced_policy_nD, sarsa\n",
    "from game import Game\n",
    "import neuralAgent as na\n",
    "import matplotlib.pyplot as plt\n",
    "import numpy as np"
   ]
  },
  {
   "cell_type": "markdown",
   "metadata": {},
   "source": [
    "### In a first time, we train an agent for 2D tic-tac-toe using our modified SARSA algorithm"
   ]
  },
  {
   "cell_type": "code",
   "execution_count": 48,
   "metadata": {
    "pycharm": {
     "name": "#%%\n"
    }
   },
   "outputs": [
    {
     "name": "stderr",
     "output_type": "stream",
     "text": [
      "100%|██████████| 20000/20000 [03:06<00:00, 107.52it/s]"
     ]
    },
    {
     "name": "stdout",
     "output_type": "stream",
     "text": [
      "Wall time: 3min 6s\n"
     ]
    },
    {
     "name": "stderr",
     "output_type": "stream",
     "text": [
      "\n"
     ]
    }
   ],
   "source": [
    "%%time\n",
    "# Around 3 mins to train our agent with 20 000 episodes\n",
    "game = Game(None, None, n_dim=2, size=3)\n",
    "agent_sarsa = Agent(size=3)\n",
    "\n",
    "n_eps = 20000\n",
    "# Trains agent with the advanced policy\n",
    "sarsa(game, agent_sarsa, advanced_random_policy, alpha=0.45, alpha_factor=0.9995**(10000/n_eps), gamma=0.7, epsilon=1.0, \\\n",
    "      epsilon_factor=0.9997**(10000/n_eps), r_win=11.0, r_lose=0.0, r_even=1.0, r_even2=1.25, num_episodes=20000)"
   ]
  },
  {
   "cell_type": "markdown",
   "metadata": {},
   "source": [
    "We make our agent play 1000 games against the <b>random</b> policy (agent plays first in half of the games)"
   ]
  },
  {
   "cell_type": "code",
   "execution_count": 49,
   "metadata": {
    "pycharm": {
     "name": "#%%\n"
    }
   },
   "outputs": [
    {
     "name": "stdout",
     "output_type": "stream",
     "text": [
      "On 1000 games, agent won 643 times, lost 121 times and made 236 even games.\n"
     ]
    }
   ],
   "source": [
    "random_opponent = Agent(size=3, policy=random_policy)\n",
    "game = Game(agent_sarsa, random_opponent, n_dim=2, size=3)\n",
    "\n",
    "agent_1_win, oppo_2_win, agent_1_even, agent_2_win, oppo_1_win, agent_2_even = game.simulate_games(1000)\n",
    "tot_agent_win = agent_1_win + agent_2_win\n",
    "tot_agent_lose = oppo_1_win + oppo_2_win\n",
    "tot_even = agent_1_even + agent_2_even\n",
    "print(\"On 1000 games, agent won\", tot_agent_win, \"times, lost\", tot_agent_lose, \"times and made\", tot_even, \"even games.\")"
   ]
  },
  {
   "cell_type": "markdown",
   "metadata": {},
   "source": [
    "Now we make our agent play 1000 games against the <b>advanced</b> policy (agent plays first in half of the games)"
   ]
  },
  {
   "cell_type": "code",
   "execution_count": 50,
   "metadata": {
    "pycharm": {
     "name": "#%%\n"
    }
   },
   "outputs": [
    {
     "name": "stdout",
     "output_type": "stream",
     "text": [
      "On 1000 games, agent won 473 times, lost 13 times and made 514 even games.\n"
     ]
    }
   ],
   "source": [
    "advanced_opponent = Agent(size=3, policy=advanced_random_policy)\n",
    "game = Game(agent_sarsa, advanced_opponent, n_dim=2, size=3)\n",
    "\n",
    "agent_1_win, oppo_2_win, agent_1_even, agent_2_win, oppo_1_win, agent_2_even = game.simulate_games(1000)\n",
    "tot_agent_win = agent_1_win + agent_2_win\n",
    "tot_agent_lose = oppo_1_win + oppo_2_win\n",
    "tot_even = agent_1_even + agent_2_even\n",
    "print(\"On 1000 games, agent won\", tot_agent_win, \"times, lost\", tot_agent_lose, \"times and made\", tot_even, \"even games.\")"
   ]
  },
  {
   "cell_type": "markdown",
   "metadata": {},
   "source": [
    "#### We give the possibility to play against our agent"
   ]
  },
  {
   "cell_type": "code",
   "execution_count": 51,
   "metadata": {
    "pycharm": {
     "name": "#%%\n"
    }
   },
   "outputs": [
    {
     "name": "stdout",
     "output_type": "stream",
     "text": [
      ". . . \n",
      ". . . \n",
      ". . . \n",
      "\n",
      "Agent plays : (2, 2) \n",
      "\n",
      ". . . \n",
      ". . . \n",
      ". . X \n",
      "\n",
      "Coordinates of next move : 00\n",
      "\n",
      "O . . \n",
      ". . . \n",
      ". . X \n",
      "\n",
      "Agent plays : (0, 2) \n",
      "\n",
      "O . X \n",
      ". . . \n",
      ". . X \n",
      "\n",
      "Coordinates of next move : 12\n",
      "\n",
      "O . X \n",
      ". . O \n",
      ". . X \n",
      "\n",
      "Agent plays : (2, 0) \n",
      "\n",
      "O . X \n",
      ". . O \n",
      "X . X \n",
      "\n",
      "Coordinates of next move : 11\n",
      "\n",
      "O . X \n",
      ". O O \n",
      "X . X \n",
      "\n",
      "Agent plays : (2, 1) \n",
      "\n",
      "O . X \n",
      ". O O \n",
      "X X X \n",
      "\n",
      "Game over. Score : (1, 0)\n",
      "<agent.Agent object at 0x0000026F3D261E80> wins !\n"
     ]
    },
    {
     "data": {
      "text/plain": [
       "(1, 0)"
      ]
     },
     "execution_count": 51,
     "metadata": {},
     "output_type": "execute_result"
    }
   ],
   "source": [
    "game = Game(agent_sarsa, \"Human player\", n_dim=2, size=3) # agent plays first\n",
    "#game = Game(\"Human player\", agent, n_dim=2, size=3) # to play first\n",
    "game.play_a_game()"
   ]
  },
  {
   "cell_type": "markdown",
   "metadata": {},
   "source": [
    "We can evaluate the performances of our agent depending on the number of training episodes"
   ]
  },
  {
   "cell_type": "code",
   "execution_count": 6,
   "metadata": {
    "pycharm": {
     "name": "#%%\n"
    }
   },
   "outputs": [
    {
     "name": "stderr",
     "output_type": "stream",
     "text": [
      "100%|██████████| 1/1 [00:00<00:00, 58.82it/s]\n",
      "100%|██████████| 10/10 [00:00<00:00, 117.91it/s]\n",
      "100%|██████████| 100/100 [00:00<00:00, 110.46it/s]\n",
      "100%|██████████| 200/200 [00:01<00:00, 111.28it/s]\n",
      "100%|██████████| 400/400 [00:03<00:00, 114.05it/s]\n",
      "100%|██████████| 700/700 [00:06<00:00, 113.57it/s]\n",
      "100%|██████████| 1000/1000 [00:09<00:00, 109.79it/s]\n",
      "100%|██████████| 2000/2000 [00:18<00:00, 110.29it/s]\n",
      "100%|██████████| 3000/3000 [00:27<00:00, 109.76it/s]\n",
      "100%|██████████| 4000/4000 [00:34<00:00, 115.06it/s]\n",
      "100%|██████████| 5000/5000 [00:45<00:00, 109.43it/s]\n",
      "100%|██████████| 7000/7000 [01:04<00:00, 108.20it/s]\n",
      "100%|██████████| 10000/10000 [01:29<00:00, 112.06it/s]\n",
      "100%|██████████| 15000/15000 [02:10<00:00, 114.64it/s]\n",
      "100%|██████████| 20000/20000 [02:53<00:00, 115.39it/s]\n"
     ]
    }
   ],
   "source": [
    "win1, lose1, draw1, win2, lose2, draw2, n_eps = [], [], [], [], [], [], []\n",
    "for n in [1, 10, 100, 200, 400, 700, 1000, 2000, 3000, 4000, 5000, 7000, 10000, 15000, 20000]:\n",
    "    ar = 0.9995**(10000/n)\n",
    "    er = 0.9997**(10000/n)\n",
    "    agent = Agent(size=3)\n",
    "    advanced_opponent = Agent(size=3, policy=advanced_random_policy)\n",
    "    game = Game(agent, advanced_opponent, n_dim=2, size=3)\n",
    "    sarsa(game, agent, advanced_random_policy, alpha=0.45, alpha_factor=ar, gamma=0.7, epsilon=1.0, epsilon_factor=er, \\\n",
    "          r_win=11.0, r_lose=0.0, r_even=1.0, r_even2=1.25, num_episodes=n)\n",
    "    win_p1_a, win_p2_a, tot_even_a, win_p1_b, win_p2_b, tot_even_b = game.simulate_games(10000)\n",
    "    win1.append(win_p1_a)\n",
    "    win2.append(win_p1_b)\n",
    "    lose1.append(win_p2_a)\n",
    "    lose2.append(win_p2_b)\n",
    "    draw1.append(tot_even_a)\n",
    "    draw2.append(tot_even_b)\n",
    "    n_eps.append(n)"
   ]
  },
  {
   "cell_type": "markdown",
   "metadata": {},
   "source": [
    "Results when the agent plays <b>in first</b>"
   ]
  },
  {
   "cell_type": "code",
   "execution_count": 7,
   "metadata": {
    "pycharm": {
     "name": "#%%\n"
    }
   },
   "outputs": [
    {
     "data": {
      "image/png": "[encoded data removed]",
      "text/plain": [
       "<Figure size 276.48x345.6 with 1 Axes>"
      ]
     },
     "metadata": {
      "needs_background": "light"
     },
     "output_type": "display_data"
    }
   ],
   "source": [
    "n_eps = np.array(n_eps)\n",
    "fig = plt.figure(figsize=(0.6*6.4, 1*4.8))\n",
    "plt.plot(n_eps, np.array(win1)/50, label='win')\n",
    "plt.plot(n_eps, np.array(lose1)/50, label='lose')\n",
    "plt.plot(n_eps, np.array(draw1)/50, label='draw')\n",
    "plt.xscale('log')\n",
    "plt.xlabel('number of episodes played in training', fontsize='large')\n",
    "plt.ylabel('test games (in % on 5000 games)', fontsize='large')\n",
    "plt.ylim(0, 105)\n",
    "plt.title('Fig.(7) : Training with the advanced\\npolicy and testing against the\\nadvanced one (agent plays in first)')\n",
    "plt.legend(loc='best', fontsize='large')\n",
    "plt.savefig(\"plot1.pdf\", bbox_inches='tight')"
   ]
  },
  {
   "cell_type": "markdown",
   "metadata": {},
   "source": [
    "Results when the agent plays <b>in second</b>"
   ]
  },
  {
   "cell_type": "code",
   "execution_count": 8,
   "metadata": {
    "pycharm": {
     "name": "#%%\n"
    }
   },
   "outputs": [
    {
     "data": {
      "image/png": "[encoded data removed]",
      "text/plain": [
       "<Figure size 276.48x345.6 with 1 Axes>"
      ]
     },
     "metadata": {
      "needs_background": "light"
     },
     "output_type": "display_data"
    }
   ],
   "source": [
    "n_eps = np.array(n_eps)\n",
    "fig = plt.figure(figsize=(0.6*6.4, 1*4.8))\n",
    "plt.plot(n_eps, np.array(win2)/50, label='win')\n",
    "plt.plot(n_eps, np.array(lose2)/50, label='lose')\n",
    "plt.plot(n_eps, np.array(draw2)/50, label='draw')\n",
    "plt.xscale('log')\n",
    "plt.xlabel('number of episodes played in training', fontsize='large')\n",
    "plt.ylabel('test games (in % on 5000 games)', fontsize='large')\n",
    "plt.ylim(0, 105)\n",
    "plt.title('Fig.(8) : Training with the advanced\\npolicy and testing against the\\nadvanced one (agent plays in second)')\n",
    "plt.legend(loc='best', fontsize='large')\n",
    "plt.savefig(\"plot2.pdf\", bbox_inches='tight')"
   ]
  },
  {
   "cell_type": "markdown",
   "metadata": {},
   "source": [
    "### Now, we show our Policy Gradient model for 2D, 3D and 4D\n",
    "We start by the 2D case.<br>We train our model with 20 000 iteration and batch size of 1000.<br><br>\n",
    "You can skip this part and directly load the weights of our model in the next cell."
   ]
  },
  {
   "cell_type": "code",
   "execution_count": 9,
   "metadata": {
    "pycharm": {
     "name": "#%%\n"
    }
   },
   "outputs": [
    {
     "name": "stderr",
     "output_type": "stream",
     "text": [
      "100%|██████████| 20000/20000 [01:56<00:00, 171.47it/s]"
     ]
    },
    {
     "name": "stdout",
     "output_type": "stream",
     "text": [
      "[array(0.22507074, dtype=float32), array(0.22507074, dtype=float32), array(0.24215935, dtype=float32), array(0.24215935, dtype=float32), array(0.23204531, dtype=float32), array(0.23204531, dtype=float32), array(0.2238855, dtype=float32), array(0.2238855, dtype=float32), array(0.23684725, dtype=float32), array(0.23684725, dtype=float32), array(0.24908169, dtype=float32), array(0.24908169, dtype=float32), array(0.22416365, dtype=float32), array(0.22416365, dtype=float32), array(0.24700518, dtype=float32), array(0.24700518, dtype=float32), array(0.22066577, dtype=float32), array(0.22066577, dtype=float32), array(0.23307395, dtype=float32), array(0.23307395, dtype=float32), array(0.2274512, dtype=float32), array(0.2274512, dtype=float32), array(0.2123587, dtype=float32), array(0.2123587, dtype=float32), array(0.23640522, dtype=float32), array(0.23640522, dtype=float32), array(0.21989647, dtype=float32), array(0.21989647, dtype=float32), array(0.21555898, dtype=float32), array(0.21555898, dtype=float32), array(0.24079275, dtype=float32), array(0.24079275, dtype=float32), array(0.2212534, dtype=float32), array(0.2212534, dtype=float32), array(0.20687278, dtype=float32), array(0.20687278, dtype=float32), array(0.242118, dtype=float32), array(0.242118, dtype=float32)]\n"
     ]
    },
    {
     "name": "stderr",
     "output_type": "stream",
     "text": [
      "\n"
     ]
    }
   ],
   "source": [
    "game = Game(None, None, n_dim=2, size=3)\n",
    "agent_2D = na.Model()\n",
    "agent_2D, values, _, _, _ = na.train_network(agent_2D, game, 20000, 1000)\n",
    "agent_2D.save(\"weights_2D\")\n",
    "print(values)"
   ]
  },
  {
   "cell_type": "markdown",
   "metadata": {},
   "source": [
    "We make our agent play 1000 games against the random policy (agent plays first in half of the games)"
   ]
  },
  {
   "cell_type": "code",
   "execution_count": 10,
   "metadata": {
    "pycharm": {
     "name": "#%%\n"
    }
   },
   "outputs": [
    {
     "name": "stderr",
     "output_type": "stream",
     "text": [
      "100%|██████████| 1000/1000 [00:05<00:00, 172.46it/s]"
     ]
    },
    {
     "name": "stdout",
     "output_type": "stream",
     "text": [
      "Agent against the random policy in 2D : Win 648, Draw 61, Loses 291\n"
     ]
    },
    {
     "name": "stderr",
     "output_type": "stream",
     "text": [
      "\n"
     ]
    }
   ],
   "source": [
    "loaded_agent_2D = na.Model()\n",
    "# Loading a saved agent\n",
    "loaded_agent_2D.load(\"weights_2D\")\n",
    "game = Game(None, None, n_dim=2, size=3)\n",
    "wins, draw, loses = na.test_against_policy(loaded_agent_2D, game, random_policy, 1000)\n",
    "print(\"Agent against the random policy in 2D : Win {}, Draw {}, Loses {}\".format(wins, draw, loses))"
   ]
  },
  {
   "cell_type": "markdown",
   "metadata": {},
   "source": [
    "#### Now the 3D case\n",
    "We train our agent with the advanced policy (you can also skip this cell)"
   ]
  },
  {
   "cell_type": "code",
   "execution_count": 11,
   "metadata": {
    "pycharm": {
     "name": "#%%\n"
    }
   },
   "outputs": [
    {
     "name": "stderr",
     "output_type": "stream",
     "text": [
      "100%|██████████| 200000/200000 [4:43:01<00:00, 11.78it/s]  "
     ]
    },
    {
     "name": "stdout",
     "output_type": "stream",
     "text": [
      "Wall time: 4h 43min 2s\n"
     ]
    },
    {
     "name": "stderr",
     "output_type": "stream",
     "text": [
      "\n"
     ]
    }
   ],
   "source": [
    "%%time\n",
    "game = Game(None, None, n_dim=3, size=3)\n",
    "agent_3D = na.Model(3, 3)\n",
    "agent_3D, values, _, _, _ = na.train_network(agent_3D, game, 200000, 1000, policy=advanced_policy_nD)\n",
    "agent_3D.save(\"weights_3D\")\n",
    "#print(values)"
   ]
  },
  {
   "cell_type": "markdown",
   "metadata": {},
   "source": [
    "We show its performances against the random policy (agent plays first in half of the games)"
   ]
  },
  {
   "cell_type": "code",
   "execution_count": 12,
   "metadata": {
    "pycharm": {
     "name": "#%%\n"
    }
   },
   "outputs": [
    {
     "name": "stderr",
     "output_type": "stream",
     "text": [
      "100%|██████████| 1000/1000 [01:12<00:00, 13.82it/s]"
     ]
    },
    {
     "name": "stdout",
     "output_type": "stream",
     "text": [
      "Agent against random policy in 3D : Win 893, Draw 32, Loses 75\n"
     ]
    },
    {
     "name": "stderr",
     "output_type": "stream",
     "text": [
      "\n"
     ]
    }
   ],
   "source": [
    "loaded_agent_3D = na.Model(3, 3)\n",
    "loaded_agent_3D.load(\"weights_3D\")\n",
    "game = Game(None, None, n_dim=3, size=3)\n",
    "wins, draw, loses = na.test_against_random(agent_3D, game, 1000)\n",
    "print(\"Agent against random policy in 3D : Win {}, Draw {}, Loses {}\".format(wins, draw, loses))"
   ]
  },
  {
   "cell_type": "markdown",
   "metadata": {},
   "source": [
    "and against the advanced one"
   ]
  },
  {
   "cell_type": "code",
   "execution_count": 13,
   "metadata": {},
   "outputs": [
    {
     "name": "stderr",
     "output_type": "stream",
     "text": [
      "100%|██████████| 1000/1000 [01:24<00:00, 11.82it/s]"
     ]
    },
    {
     "name": "stdout",
     "output_type": "stream",
     "text": [
      "Agent against advanced policy in 3D : Win 217, Draw 144, Loses 639\n"
     ]
    },
    {
     "name": "stderr",
     "output_type": "stream",
     "text": [
      "\n"
     ]
    }
   ],
   "source": [
    "wins, draw, loses = na.test_against_policy(agent_3D, game, advanced_policy_nD, 1000)\n",
    "print(\"Agent against advanced policy in 3D : Win {}, Draw {}, Loses {}\".format(wins, draw, loses))"
   ]
  },
  {
   "cell_type": "markdown",
   "metadata": {},
   "source": [
    "#### You can try a game in 3D vs our agent"
   ]
  },
  {
   "cell_type": "code",
   "execution_count": 53,
   "metadata": {
    "scrolled": true
   },
   "outputs": [
    {
     "name": "stdout",
     "output_type": "stream",
     "text": [
      "['.' '.' '.'] ['.' '.' '.'] ['.' '.' '.'] \n",
      "['.' '.' '.'] ['.' '.' '.'] ['.' '.' '.'] \n",
      "['.' '.' '.'] ['.' '.' '.'] ['.' '.' '.'] \n",
      "\n",
      "Agent plays : (2, 0, 1) \n",
      "\n",
      "['.' '.' '.'] ['.' '.' '.'] ['.' '.' '.'] \n",
      "['.' '.' '.'] ['.' '.' '.'] ['.' '.' '.'] \n",
      "['.' 'X' '.'] ['.' '.' '.'] ['.' '.' '.'] \n",
      "\n",
      "Coordinates of next move : 000\n",
      "\n",
      "['O' '.' '.'] ['.' '.' '.'] ['.' '.' '.'] \n",
      "['.' '.' '.'] ['.' '.' '.'] ['.' '.' '.'] \n",
      "['.' 'X' '.'] ['.' '.' '.'] ['.' '.' '.'] \n",
      "\n",
      "Agent plays : (2, 1, 2) \n",
      "\n",
      "['O' '.' '.'] ['.' '.' '.'] ['.' '.' '.'] \n",
      "['.' '.' '.'] ['.' '.' '.'] ['.' '.' '.'] \n",
      "['.' 'X' '.'] ['.' '.' 'X'] ['.' '.' '.'] \n",
      "\n",
      "Coordinates of next move : 001\n",
      "\n",
      "['O' 'O' '.'] ['.' '.' '.'] ['.' '.' '.'] \n",
      "['.' '.' '.'] ['.' '.' '.'] ['.' '.' '.'] \n",
      "['.' 'X' '.'] ['.' '.' 'X'] ['.' '.' '.'] \n",
      "\n",
      "Agent plays : (2, 0, 2) \n",
      "\n",
      "['O' 'O' '.'] ['.' '.' '.'] ['.' '.' '.'] \n",
      "['.' '.' '.'] ['.' '.' '.'] ['.' '.' '.'] \n",
      "['.' 'X' 'X'] ['.' '.' 'X'] ['.' '.' '.'] \n",
      "\n",
      "Coordinates of next move : 002\n",
      "\n",
      "['O' 'O' 'O'] ['.' '.' '.'] ['.' '.' '.'] \n",
      "['.' '.' '.'] ['.' '.' '.'] ['.' '.' '.'] \n",
      "['.' 'X' 'X'] ['.' '.' 'X'] ['.' '.' '.'] \n",
      "\n",
      "Agent plays : (2, 2, 0) \n",
      "\n",
      "['O' 'O' 'O'] ['.' '.' '.'] ['.' '.' '.'] \n",
      "['.' '.' '.'] ['.' '.' '.'] ['.' '.' '.'] \n",
      "['.' 'X' 'X'] ['.' '.' 'X'] ['X' '.' '.'] \n",
      "\n",
      "Coordinates of next move : 100\n",
      "\n",
      "['O' 'O' 'O'] ['.' '.' '.'] ['.' '.' '.'] \n",
      "['O' '.' '.'] ['.' '.' '.'] ['.' '.' '.'] \n",
      "['.' 'X' 'X'] ['.' '.' 'X'] ['X' '.' '.'] \n",
      "\n",
      "Agent plays : (0, 1, 2) \n",
      "\n",
      "['O' 'O' 'O'] ['.' '.' 'X'] ['.' '.' '.'] \n",
      "['O' '.' '.'] ['.' '.' '.'] ['.' '.' '.'] \n",
      "['.' 'X' 'X'] ['.' '.' 'X'] ['X' '.' '.'] \n",
      "\n",
      "Coordinates of next move : 110\n",
      "\n",
      "['O' 'O' 'O'] ['.' '.' 'X'] ['.' '.' '.'] \n",
      "['O' '.' '.'] ['O' '.' '.'] ['.' '.' '.'] \n",
      "['.' 'X' 'X'] ['.' '.' 'X'] ['X' '.' '.'] \n",
      "\n",
      "Agent plays : (0, 1, 1) \n",
      "\n",
      "['O' 'O' 'O'] ['.' 'X' 'X'] ['.' '.' '.'] \n",
      "['O' '.' '.'] ['O' '.' '.'] ['.' '.' '.'] \n",
      "['.' 'X' 'X'] ['.' '.' 'X'] ['X' '.' '.'] \n",
      "\n",
      "Coordinates of next move : 101\n",
      "\n",
      "['O' 'O' 'O'] ['.' 'X' 'X'] ['.' '.' '.'] \n",
      "['O' 'O' '.'] ['O' '.' '.'] ['.' '.' '.'] \n",
      "['.' 'X' 'X'] ['.' '.' 'X'] ['X' '.' '.'] \n",
      "\n",
      "Agent plays : (2, 1, 1) \n",
      "\n",
      "['O' 'O' 'O'] ['.' 'X' 'X'] ['.' '.' '.'] \n",
      "['O' 'O' '.'] ['O' '.' '.'] ['.' '.' '.'] \n",
      "['.' 'X' 'X'] ['.' 'X' 'X'] ['X' '.' '.'] \n",
      "\n",
      "Coordinates of next move : 102\n",
      "\n",
      "['O' 'O' 'O'] ['.' 'X' 'X'] ['.' '.' '.'] \n",
      "['O' 'O' 'O'] ['O' '.' '.'] ['.' '.' '.'] \n",
      "['.' 'X' 'X'] ['.' 'X' 'X'] ['X' '.' '.'] \n",
      "\n",
      "Agent plays : (1, 2, 2) \n",
      "\n",
      "['O' 'O' 'O'] ['.' 'X' 'X'] ['.' '.' '.'] \n",
      "['O' 'O' 'O'] ['O' '.' '.'] ['.' '.' 'X'] \n",
      "['.' 'X' 'X'] ['.' 'X' 'X'] ['X' '.' '.'] \n",
      "\n",
      "Coordinates of next move : 020\n",
      "\n",
      "['O' 'O' 'O'] ['.' 'X' 'X'] ['O' '.' '.'] \n",
      "['O' 'O' 'O'] ['O' '.' '.'] ['.' '.' 'X'] \n",
      "['.' 'X' 'X'] ['.' 'X' 'X'] ['X' '.' '.'] \n",
      "\n",
      "Agent plays : (2, 2, 1) \n",
      "\n",
      "['O' 'O' 'O'] ['.' 'X' 'X'] ['O' '.' '.'] \n",
      "['O' 'O' 'O'] ['O' '.' '.'] ['.' '.' 'X'] \n",
      "['.' 'X' 'X'] ['.' 'X' 'X'] ['X' 'X' '.'] \n",
      "\n",
      "Coordinates of next move : 002\n",
      "\n",
      "Position not available, please try another one : 200\n",
      "['O' 'O' 'O'] ['.' 'X' 'X'] ['O' '.' '.'] \n",
      "['O' 'O' 'O'] ['O' '.' '.'] ['.' '.' 'X'] \n",
      "['O' 'X' 'X'] ['.' 'X' 'X'] ['X' 'X' '.'] \n",
      "\n",
      "Agent plays : (2, 2, 2) \n",
      "\n",
      "['O' 'O' 'O'] ['.' 'X' 'X'] ['O' '.' '.'] \n",
      "['O' 'O' 'O'] ['O' '.' '.'] ['.' '.' 'X'] \n",
      "['O' 'X' 'X'] ['.' 'X' 'X'] ['X' 'X' 'X'] \n",
      "\n",
      "Coordinates of next move : 111\n",
      "\n",
      "['O' 'O' 'O'] ['.' 'X' 'X'] ['O' '.' '.'] \n",
      "['O' 'O' 'O'] ['O' 'O' '.'] ['.' '.' 'X'] \n",
      "['O' 'X' 'X'] ['.' 'X' 'X'] ['X' 'X' 'X'] \n",
      "\n",
      "Agent plays : (0, 2, 1) \n",
      "\n",
      "['O' 'O' 'O'] ['.' 'X' 'X'] ['O' 'X' '.'] \n",
      "['O' 'O' 'O'] ['O' 'O' '.'] ['.' '.' 'X'] \n",
      "['O' 'X' 'X'] ['.' 'X' 'X'] ['X' 'X' 'X'] \n",
      "\n",
      "Coordinates of next move : 112\n",
      "\n",
      "['O' 'O' 'O'] ['.' 'X' 'X'] ['O' 'X' '.'] \n",
      "['O' 'O' 'O'] ['O' 'O' 'O'] ['.' '.' 'X'] \n",
      "['O' 'X' 'X'] ['.' 'X' 'X'] ['X' 'X' 'X'] \n",
      "\n",
      "Agent plays : (1, 2, 0) \n",
      "\n",
      "['O' 'O' 'O'] ['.' 'X' 'X'] ['O' 'X' '.'] \n",
      "['O' 'O' 'O'] ['O' 'O' 'O'] ['X' '.' 'X'] \n",
      "['O' 'X' 'X'] ['.' 'X' 'X'] ['X' 'X' 'X'] \n",
      "\n",
      "Coordinates of next move : 100\n",
      "\n",
      "Position not available, please try another one : 010\n",
      "['O' 'O' 'O'] ['O' 'X' 'X'] ['O' 'X' '.'] \n",
      "['O' 'O' 'O'] ['O' 'O' 'O'] ['X' '.' 'X'] \n",
      "['O' 'X' 'X'] ['.' 'X' 'X'] ['X' 'X' 'X'] \n",
      "\n",
      "Agent plays : (1, 2, 1) \n",
      "\n",
      "['O' 'O' 'O'] ['O' 'X' 'X'] ['O' 'X' '.'] \n",
      "['O' 'O' 'O'] ['O' 'O' 'O'] ['X' 'X' 'X'] \n",
      "['O' 'X' 'X'] ['.' 'X' 'X'] ['X' 'X' 'X'] \n",
      "\n",
      "Coordinates of next move : 012\n",
      "\n",
      "Position not available, please try another one : 021\n",
      "Position not available, please try another one : 120\n",
      "Position not available, please try another one : 201\n",
      "Position not available, please try another one : 210\n",
      "['O' 'O' 'O'] ['O' 'X' 'X'] ['O' 'X' '.'] \n",
      "['O' 'O' 'O'] ['O' 'O' 'O'] ['X' 'X' 'X'] \n",
      "['O' 'X' 'X'] ['O' 'X' 'X'] ['X' 'X' 'X'] \n",
      "\n",
      "Agent plays : (0, 2, 2) \n",
      "\n",
      "['O' 'O' 'O'] ['O' 'X' 'X'] ['O' 'X' 'X'] \n",
      "['O' 'O' 'O'] ['O' 'O' 'O'] ['X' 'X' 'X'] \n",
      "['O' 'X' 'X'] ['O' 'X' 'X'] ['X' 'X' 'X'] \n",
      "\n",
      "Game over. Score : (8, 8)\n",
      "Even score.\n"
     ]
    },
    {
     "data": {
      "text/plain": [
       "(8, 8)"
      ]
     },
     "execution_count": 53,
     "metadata": {},
     "output_type": "execute_result"
    }
   ],
   "source": [
    "game = Game(agent, \"Human player\", n_dim=3, size=3) # agent plays first\n",
    "#game = Game(\"Human player\", agent, n_dim=3, size=3) # to play first\n",
    "game.play_a_game()"
   ]
  },
  {
   "cell_type": "markdown",
   "metadata": {},
   "source": [
    "### Finally we show some results in 4D"
   ]
  },
  {
   "cell_type": "code",
   "execution_count": 15,
   "metadata": {},
   "outputs": [
    {
     "name": "stderr",
     "output_type": "stream",
     "text": [
      "100%|██████████| 100000/100000 [21:35:03<00:00,  1.29it/s]  \n"
     ]
    },
    {
     "name": "stdout",
     "output_type": "stream",
     "text": [
      "Wall time: 21h 35min 3s\n"
     ]
    }
   ],
   "source": [
    "%%time\n",
    "game = Game(None, None, n_dim=4, size=3)\n",
    "agent_4D = na.Model(size=3, n_dim=4)\n",
    "agent_4D, values, _, _, _ = na.train_network(agent_4D, game, 100000, 1000, policy=advanced_policy_nD)\n",
    "agent_4D.save(\"weights_4D\")\n",
    "#print(values)"
   ]
  },
  {
   "cell_type": "markdown",
   "metadata": {},
   "source": [
    "We trained our agent with the advanced policy in 4D"
   ]
  },
  {
   "cell_type": "code",
   "execution_count": 43,
   "metadata": {},
   "outputs": [
    {
     "name": "stderr",
     "output_type": "stream",
     "text": [
      "100%|██████████| 1000/1000 [11:43<00:00,  1.42it/s]"
     ]
    },
    {
     "name": "stdout",
     "output_type": "stream",
     "text": [
      "Agent against advanced policy in 4D : Win 672, Draw 20, Loses 308\n"
     ]
    },
    {
     "name": "stderr",
     "output_type": "stream",
     "text": [
      "\n"
     ]
    }
   ],
   "source": [
    "loaded_agent_4D = na.Model(size=3, n_dim=4)\n",
    "loaded_agent_4D.load(\"weights_4D\")\n",
    "game = Game(None, None, n_dim=4, size=3)\n",
    "wins, draw, loses = na.test_against_policy(agent_4D, game, random_policy, 1000)\n",
    "print(\"Agent against advanced policy in 4D : Win {}, Draw {}, Loses {}\".format(wins, draw, loses))"
   ]
  },
  {
   "cell_type": "code",
   "execution_count": 46,
   "metadata": {},
   "outputs": [
    {
     "data": {
      "image/png": "[encoded data removed]",
      "text/plain": [
       "<Figure size 432x288 with 1 Axes>"
      ]
     },
     "metadata": {
      "needs_background": "light"
     },
     "output_type": "display_data"
    }
   ],
   "source": [
    "diag = plt.figure()\n",
    "plt.bar(['Win', 'Draw', 'Lose'], np.array([wins, draw, loses]) / 10)\n",
    "plt.title(\"Fig.(12) : Agent against random policy in 4D\", fontsize='x-large')\n",
    "plt.ylabel('test games (in % on 1000 games)', fontsize='x-large')\n",
    "plt.ylim(0, 105)\n",
    "plt.savefig(\"agent_vs_random_in_4D.pdf\", bbox_inches='tight')"
   ]
  },
  {
   "cell_type": "code",
   "execution_count": 54,
   "metadata": {},
   "outputs": [
    {
     "name": "stderr",
     "output_type": "stream",
     "text": [
      "100%|██████████| 1000/1000 [13:03<00:00,  1.28it/s]"
     ]
    },
    {
     "name": "stdout",
     "output_type": "stream",
     "text": [
      "Agent against advanced policy in 4D : Win 257, Draw 35, Loses 708\n"
     ]
    },
    {
     "name": "stderr",
     "output_type": "stream",
     "text": [
      "\n"
     ]
    }
   ],
   "source": [
    "loaded_agent_4D = na.Model(size=3, n_dim=4)\n",
    "loaded_agent_4D.load(\"weights_4D\")\n",
    "game = Game(None, None, n_dim=4, size=3)\n",
    "wins, draw, loses = na.test_against_policy(agent_4D, game, advanced_policy_nD, 1000)\n",
    "print(\"Agent against advanced policy in 4D : Win {}, Draw {}, Loses {}\".format(wins, draw, loses))"
   ]
  },
  {
   "cell_type": "code",
   "execution_count": 55,
   "metadata": {
    "scrolled": true
   },
   "outputs": [
    {
     "data": {
      "image/png": "[encoded data removed]",
      "text/plain": [
       "<Figure size 432x288 with 1 Axes>"
      ]
     },
     "metadata": {
      "needs_background": "light"
     },
     "output_type": "display_data"
    }
   ],
   "source": [
    "diag = plt.figure()\n",
    "plt.bar(['Win', 'Draw', 'Lose'], np.array([wins, draw, loses]) / 10)\n",
    "plt.title(\"Fig.(13) : Agent against advanced policy in 4D\", fontsize='x-large')\n",
    "plt.ylabel('test games (in % on 1000 games)', fontsize='x-large')\n",
    "plt.ylim(0, 105)\n",
    "plt.savefig(\"agent_vs_advanced_in_4D.pdf\", bbox_inches='tight')"
   ]
  },
  {
   "cell_type": "markdown",
   "metadata": {},
   "source": [
    "### Plots of performance evolution for Policy Gradient according to training episodes"
   ]
  },
  {
   "cell_type": "markdown",
   "metadata": {},
   "source": [
    "2D case"
   ]
  },
  {
   "cell_type": "code",
   "execution_count": 17,
   "metadata": {
    "pycharm": {
     "name": "#%%\n"
    }
   },
   "outputs": [
    {
     "name": "stderr",
     "output_type": "stream",
     "text": [
      "100%|██████████| 1/1 [00:00<00:00, 83.34it/s]\n",
      "100%|██████████| 5000/5000 [00:34<00:00, 144.71it/s]\n",
      "100%|██████████| 10/10 [00:00<00:00, 143.30it/s]\n",
      "  0%|          | 16/5000 [00:00<00:35, 139.67it/s]"
     ]
    },
    {
     "name": "stdout",
     "output_type": "stream",
     "text": [
      "1\n"
     ]
    },
    {
     "name": "stderr",
     "output_type": "stream",
     "text": [
      "100%|██████████| 5000/5000 [00:33<00:00, 147.09it/s]\n",
      " 15%|█▌        | 15/100 [00:00<00:00, 141.24it/s]"
     ]
    },
    {
     "name": "stdout",
     "output_type": "stream",
     "text": [
      "10\n"
     ]
    },
    {
     "name": "stderr",
     "output_type": "stream",
     "text": [
      "100%|██████████| 100/100 [00:00<00:00, 142.17it/s]\n",
      "100%|██████████| 5000/5000 [00:33<00:00, 148.20it/s]\n",
      "  8%|▊         | 15/200 [00:00<00:01, 141.53it/s]"
     ]
    },
    {
     "name": "stdout",
     "output_type": "stream",
     "text": [
      "100\n"
     ]
    },
    {
     "name": "stderr",
     "output_type": "stream",
     "text": [
      "100%|██████████| 200/200 [00:01<00:00, 139.73it/s]\n",
      "100%|██████████| 5000/5000 [00:33<00:00, 148.27it/s]\n",
      "  4%|▍         | 16/400 [00:00<00:02, 149.90it/s]"
     ]
    },
    {
     "name": "stdout",
     "output_type": "stream",
     "text": [
      "200\n"
     ]
    },
    {
     "name": "stderr",
     "output_type": "stream",
     "text": [
      "100%|██████████| 400/400 [00:02<00:00, 148.26it/s]\n",
      "100%|██████████| 5000/5000 [00:32<00:00, 152.19it/s]\n",
      "  2%|▏         | 17/700 [00:00<00:04, 168.39it/s]"
     ]
    },
    {
     "name": "stdout",
     "output_type": "stream",
     "text": [
      "400\n"
     ]
    },
    {
     "name": "stderr",
     "output_type": "stream",
     "text": [
      "100%|██████████| 700/700 [00:04<00:00, 155.70it/s]\n",
      "100%|██████████| 5000/5000 [00:31<00:00, 157.32it/s]\n",
      "  2%|▏         | 16/1000 [00:00<00:06, 155.95it/s]"
     ]
    },
    {
     "name": "stdout",
     "output_type": "stream",
     "text": [
      "700\n"
     ]
    },
    {
     "name": "stderr",
     "output_type": "stream",
     "text": [
      "100%|██████████| 1000/1000 [00:06<00:00, 150.10it/s]\n",
      "100%|██████████| 5000/5000 [00:32<00:00, 153.01it/s]\n",
      "  1%|          | 18/2000 [00:00<00:12, 156.78it/s]"
     ]
    },
    {
     "name": "stdout",
     "output_type": "stream",
     "text": [
      "1000\n"
     ]
    },
    {
     "name": "stderr",
     "output_type": "stream",
     "text": [
      "100%|██████████| 2000/2000 [00:11<00:00, 169.60it/s]\n",
      "100%|██████████| 5000/5000 [00:29<00:00, 170.43it/s]\n",
      "  1%|          | 16/3000 [00:00<00:20, 143.55it/s]"
     ]
    },
    {
     "name": "stdout",
     "output_type": "stream",
     "text": [
      "2000\n"
     ]
    },
    {
     "name": "stderr",
     "output_type": "stream",
     "text": [
      "100%|██████████| 3000/3000 [00:19<00:00, 157.20it/s]\n",
      "100%|██████████| 5000/5000 [00:29<00:00, 172.21it/s]\n",
      "  0%|          | 16/4000 [00:00<00:28, 137.95it/s]"
     ]
    },
    {
     "name": "stdout",
     "output_type": "stream",
     "text": [
      "3000\n"
     ]
    },
    {
     "name": "stderr",
     "output_type": "stream",
     "text": [
      "100%|██████████| 4000/4000 [00:26<00:00, 148.79it/s]\n",
      "100%|██████████| 5000/5000 [00:29<00:00, 169.03it/s]\n",
      "  0%|          | 14/5000 [00:00<00:35, 138.85it/s]"
     ]
    },
    {
     "name": "stdout",
     "output_type": "stream",
     "text": [
      "4000\n"
     ]
    },
    {
     "name": "stderr",
     "output_type": "stream",
     "text": [
      "100%|██████████| 5000/5000 [00:32<00:00, 153.88it/s]\n",
      "100%|██████████| 5000/5000 [00:28<00:00, 174.52it/s]\n",
      "  0%|          | 15/7000 [00:00<00:46, 148.75it/s]"
     ]
    },
    {
     "name": "stdout",
     "output_type": "stream",
     "text": [
      "5000\n"
     ]
    },
    {
     "name": "stderr",
     "output_type": "stream",
     "text": [
      "100%|██████████| 7000/7000 [00:48<00:00, 145.34it/s]\n",
      "100%|██████████| 5000/5000 [00:30<00:00, 163.17it/s]\n",
      "  0%|          | 16/10000 [00:00<01:05, 151.58it/s]"
     ]
    },
    {
     "name": "stdout",
     "output_type": "stream",
     "text": [
      "7000\n"
     ]
    },
    {
     "name": "stderr",
     "output_type": "stream",
     "text": [
      "100%|██████████| 10000/10000 [00:57<00:00, 174.66it/s]\n",
      "100%|██████████| 5000/5000 [00:28<00:00, 173.48it/s]\n",
      "  0%|          | 15/15000 [00:00<01:48, 138.72it/s]"
     ]
    },
    {
     "name": "stdout",
     "output_type": "stream",
     "text": [
      "10000\n"
     ]
    },
    {
     "name": "stderr",
     "output_type": "stream",
     "text": [
      "100%|██████████| 15000/15000 [01:26<00:00, 173.78it/s]\n",
      "100%|██████████| 5000/5000 [00:28<00:00, 176.45it/s]\n",
      "  0%|          | 16/20000 [00:00<02:08, 155.08it/s]"
     ]
    },
    {
     "name": "stdout",
     "output_type": "stream",
     "text": [
      "15000\n"
     ]
    },
    {
     "name": "stderr",
     "output_type": "stream",
     "text": [
      "100%|██████████| 20000/20000 [01:50<00:00, 181.05it/s]\n",
      "100%|██████████| 5000/5000 [00:28<00:00, 172.96it/s]\n"
     ]
    },
    {
     "name": "stdout",
     "output_type": "stream",
     "text": [
      "20000\n"
     ]
    },
    {
     "data": {
      "image/png": "[encoded data removed]",
      "text/plain": [
       "<Figure size 368.64x345.6 with 1 Axes>"
      ]
     },
     "metadata": {
      "needs_background": "light"
     },
     "output_type": "display_data"
    }
   ],
   "source": [
    "win1, lose1, draw1, n_eps = [], [], [], []\n",
    "for n in [1, 10, 100, 200, 400, 700, 1000, 2000, 3000, 4000, 5000, 7000, 10000, 15000, 20000]:\n",
    "    game = Game(None, None, n_dim=2, size=3)\n",
    "    agent1 = na.Model()\n",
    "    agent1, values, _, _, _ = na.train_network(agent1, game, n, 1000)\n",
    "    wins, draw, loses = na.test_against_policy(agent1, game, random_policy, 5000)\n",
    "    win1.append(wins)\n",
    "    lose1.append(loses)\n",
    "    draw1.append(draw)\n",
    "    n_eps.append(n)\n",
    "    print(n)\n",
    "    \n",
    "n_eps = np.array(n_eps)\n",
    "fig = plt.figure(figsize=(0.8*6.4, 1*4.8))\n",
    "plt.plot(n_eps, np.array(win1)/50, label='win')\n",
    "plt.plot(n_eps, np.array(lose1)/50, label='lose')\n",
    "plt.plot(n_eps, np.array(draw1)/50, label='draw')\n",
    "plt.xscale('log')\n",
    "plt.xlabel('number of episodes played in training', fontsize='x-large')\n",
    "plt.ylabel('test games (in % on 5000 games)', fontsize='x-large')\n",
    "plt.ylim(0, 105)\n",
    "plt.title('Fig.(9) : Training and testing with\\nthe random policy (agent plays\\nfirst in half of the games)', \\\n",
    "          fontsize='x-large')\n",
    "plt.legend(loc='upper left', fontsize='x-large')\n",
    "plt.savefig(\"plot2d.pdf\", bbox_inches='tight')"
   ]
  },
  {
   "cell_type": "markdown",
   "metadata": {},
   "source": [
    "3D case"
   ]
  },
  {
   "cell_type": "code",
   "execution_count": 18,
   "metadata": {
    "pycharm": {
     "name": "#%%\n"
    }
   },
   "outputs": [
    {
     "name": "stderr",
     "output_type": "stream",
     "text": [
      "100%|██████████| 1/1 [00:00<00:00, 10.19it/s]\n",
      "100%|██████████| 1000/1000 [01:12<00:00, 13.72it/s]\n",
      "100%|██████████| 1000/1000 [01:25<00:00, 11.63it/s]\n",
      "100%|██████████| 10/10 [00:00<00:00, 11.35it/s]\n",
      "100%|██████████| 1000/1000 [01:13<00:00, 13.65it/s]\n",
      "100%|██████████| 1000/1000 [01:24<00:00, 11.81it/s]\n",
      "100%|██████████| 100/100 [00:08<00:00, 12.01it/s]\n",
      "100%|██████████| 1000/1000 [01:12<00:00, 13.73it/s]\n",
      "100%|██████████| 1000/1000 [01:25<00:00, 11.64it/s]\n",
      "100%|██████████| 500/500 [00:41<00:00, 12.04it/s]\n",
      "100%|██████████| 1000/1000 [01:12<00:00, 13.75it/s]\n",
      "100%|██████████| 1000/1000 [01:24<00:00, 11.79it/s]\n",
      "100%|██████████| 1000/1000 [01:27<00:00, 11.44it/s]\n",
      "100%|██████████| 1000/1000 [01:12<00:00, 13.81it/s]\n",
      "100%|██████████| 1000/1000 [01:24<00:00, 11.77it/s]\n",
      "100%|██████████| 2000/2000 [02:46<00:00, 12.02it/s]\n",
      "100%|██████████| 1000/1000 [01:12<00:00, 13.76it/s]\n",
      "100%|██████████| 1000/1000 [01:24<00:00, 11.89it/s]\n",
      "100%|██████████| 5000/5000 [07:02<00:00, 11.84it/s]\n",
      "100%|██████████| 1000/1000 [01:13<00:00, 13.69it/s]\n",
      "100%|██████████| 1000/1000 [01:24<00:00, 11.79it/s]\n",
      "100%|██████████| 10000/10000 [14:07<00:00, 11.80it/s]\n",
      "100%|██████████| 1000/1000 [01:13<00:00, 13.56it/s]\n",
      "100%|██████████| 1000/1000 [01:25<00:00, 11.65it/s]\n",
      "100%|██████████| 20000/20000 [28:10<00:00, 11.83it/s]\n",
      "100%|██████████| 1000/1000 [01:13<00:00, 13.68it/s]\n",
      "100%|██████████| 1000/1000 [01:25<00:00, 11.69it/s]\n",
      "100%|██████████| 50000/50000 [1:10:50<00:00, 11.76it/s]\n",
      "100%|██████████| 1000/1000 [01:13<00:00, 13.64it/s]\n",
      "100%|██████████| 1000/1000 [01:26<00:00, 11.60it/s]\n",
      "100%|██████████| 100000/100000 [2:23:16<00:00, 11.63it/s]  \n",
      "100%|██████████| 1000/1000 [01:13<00:00, 13.54it/s]\n",
      "100%|██████████| 1000/1000 [01:27<00:00, 11.45it/s]\n"
     ]
    }
   ],
   "source": [
    "win1, lose1, draw1, n_eps = [], [], [], []\n",
    "win1Ad, lose1Ad, draw1Ad = [], [], []\n",
    "for n in [1, 10, 100, 500, 1000, 2000, 5000, 10000, 20000, 50000, 100000]:\n",
    "    game = Game(None, None, n_dim=3, size=3)\n",
    "    agent1 = na.Model(3, 3)\n",
    "    agent1, values, _, _, _ = na.train_network(agent1, game, n, 1000, policy=advanced_policy_nD)\n",
    "    wins, draw, loses = na.test_against_policy(agent1, game, random_policy, 1000)\n",
    "    winsAd, drawAd, losesAd = na.test_against_policy(agent1, game, advanced_policy_nD, 1000)\n",
    "    win1.append(wins)\n",
    "    lose1.append(loses)\n",
    "    draw1.append(draw)\n",
    "    win1Ad.append(winsAd)\n",
    "    lose1Ad.append(losesAd)\n",
    "    draw1Ad.append(drawAd)\n",
    "    n_eps.append(n)"
   ]
  },
  {
   "cell_type": "markdown",
   "metadata": {},
   "source": [
    "Agent trained with the advanced policy and plays games against the random policy"
   ]
  },
  {
   "cell_type": "code",
   "execution_count": 35,
   "metadata": {
    "pycharm": {
     "name": "#%%\n"
    }
   },
   "outputs": [
    {
     "data": {
      "image/png": "[encoded data removed]",
      "text/plain": [
       "<Figure size 322.56x345.6 with 1 Axes>"
      ]
     },
     "metadata": {
      "needs_background": "light"
     },
     "output_type": "display_data"
    }
   ],
   "source": [
    "n_eps = np.array(n_eps)\n",
    "fig = plt.figure(figsize=(0.7*6.4, 1*4.8))\n",
    "plt.plot(n_eps, np.array(win1)/10, label='win')\n",
    "plt.plot(n_eps, np.array(lose1)/10, label='lose')\n",
    "plt.plot(n_eps, np.array(draw1)/10, label='draw')\n",
    "plt.xscale('log')\n",
    "plt.xlabel('number of episodes played in training', fontsize='x-large')\n",
    "plt.ylabel('test games (in % on 1000 games)', fontsize='x-large')\n",
    "plt.ylim(0, 105)\n",
    "plt.title('Fig.(10) : Training with the advanced policy\\nand testing against the random one\\n(agent plays first in half of the games)', \\\n",
    "          fontsize='x-large')\n",
    "plt.legend(loc='best', fontsize='x-large')\n",
    "plt.savefig(\"agent_vs_random_in_3D.pdf\", bbox_inches='tight')"
   ]
  },
  {
   "cell_type": "markdown",
   "metadata": {},
   "source": [
    "Agent trained with the advanced policy plays games against it"
   ]
  },
  {
   "cell_type": "code",
   "execution_count": 36,
   "metadata": {
    "pycharm": {
     "name": "#%%\n"
    }
   },
   "outputs": [
    {
     "data": {
      "image/png": "[encoded data removed]",
      "text/plain": [
       "<Figure size 322.56x345.6 with 1 Axes>"
      ]
     },
     "metadata": {
      "needs_background": "light"
     },
     "output_type": "display_data"
    }
   ],
   "source": [
    "n_eps = np.array(n_eps)\n",
    "fig = plt.figure(figsize=(0.7*6.4, 1*4.8))\n",
    "plt.plot(n_eps, np.array(win1Ad)/10, label='win')\n",
    "plt.plot(n_eps, np.array(lose1Ad)/10, label='lose')\n",
    "plt.plot(n_eps, np.array(draw1Ad)/10, label='draw')\n",
    "plt.xscale('log')\n",
    "plt.xlabel('number of episodes played in training', fontsize='x-large')\n",
    "plt.ylabel('test games (in % on 1000 games)', fontsize='x-large')\n",
    "plt.ylim(0, 105)\n",
    "plt.title('Fig.(11) : Training with the advanced policy\\nand testing against the advanced one\\n(agent plays first in half of the games)', \\\n",
    "          fontsize='x-large')\n",
    "plt.legend(loc='best', fontsize='x-large')\n",
    "plt.savefig(\"agent_vs_advanced_in_3D.pdf\", bbox_inches='tight')"
   ]
  }
 ],
 "metadata": {
  "colab": {
   "collapsed_sections": [],
   "name": "RL_project.ipynb",
   "provenance": []
  },
  "kernelspec": {
   "display_name": "Python 3",
   "language": "python",
   "name": "python3"
  },
  "language_info": {
   "codemirror_mode": {
    "name": "ipython",
    "version": 3
   },
   "file_extension": ".py",
   "mimetype": "text/x-python",
   "name": "python",
   "nbconvert_exporter": "python",
   "pygments_lexer": "ipython3",
   "version": "3.8.3"
  }
 },
 "nbformat": 4,
 "nbformat_minor": 1
}
